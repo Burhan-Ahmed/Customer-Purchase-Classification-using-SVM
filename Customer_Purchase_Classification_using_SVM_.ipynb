{
  "nbformat": 4,
  "nbformat_minor": 0,
  "metadata": {
    "colab": {
      "provenance": []
    },
    "kernelspec": {
      "name": "python3",
      "display_name": "Python 3"
    },
    "language_info": {
      "name": "python"
    }
  },
  "cells": [
    {
      "cell_type": "markdown",
      "source": [
        "### Initialization"
      ],
      "metadata": {
        "id": "ZTh7VTdDw8lW"
      }
    },
    {
      "cell_type": "code",
      "execution_count": 13,
      "metadata": {
        "id": "lp-SVvXuzUTT"
      },
      "outputs": [],
      "source": [
        "import pandas as pd\n",
        "import numpy as np\n",
        "from sklearn.model_selection import train_test_split\n",
        "from sklearn.svm import SVC\n",
        "from sklearn.preprocessing import StandardScaler\n",
        "from sklearn import metrics"
      ]
    },
    {
      "cell_type": "markdown",
      "source": [
        "### Loading **Data**"
      ],
      "metadata": {
        "id": "wwOU_j2Grufq"
      }
    },
    {
      "cell_type": "code",
      "source": [
        "dataset=pd.read_csv('/content/SocialNetworks.csv')\n",
        "print(dataset)"
      ],
      "metadata": {
        "id": "mFYzCaD1wes3",
        "colab": {
          "base_uri": "https://localhost:8080/"
        },
        "outputId": "45b9195a-333e-4d62-ad3e-75890fe51dc2"
      },
      "execution_count": 14,
      "outputs": [
        {
          "output_type": "stream",
          "name": "stdout",
          "text": [
            "      User ID  Gender  Age  EstimatedSalary  Purchased\n",
            "0    15624510    Male   19            19000          0\n",
            "1    15810944    Male   35            20000          0\n",
            "2    15668575  Female   26            43000          0\n",
            "3    15603246  Female   27            57000          0\n",
            "4    15804002    Male   19            76000          0\n",
            "..        ...     ...  ...              ...        ...\n",
            "395  15691863  Female   46            41000          1\n",
            "396  15706071    Male   51            23000          1\n",
            "397  15654296  Female   50            20000          1\n",
            "398  15755018    Male   36            33000          0\n",
            "399  15594041  Female   49            36000          1\n",
            "\n",
            "[400 rows x 5 columns]\n"
          ]
        }
      ]
    },
    {
      "cell_type": "code",
      "source": [
        "dataset.shape"
      ],
      "metadata": {
        "colab": {
          "base_uri": "https://localhost:8080/"
        },
        "id": "QtYcndur3Rlf",
        "outputId": "f416bd49-aeb5-4ad4-e67d-390eea903ae3"
      },
      "execution_count": 15,
      "outputs": [
        {
          "output_type": "execute_result",
          "data": {
            "text/plain": [
              "(400, 5)"
            ]
          },
          "metadata": {},
          "execution_count": 15
        }
      ]
    },
    {
      "cell_type": "code",
      "source": [
        "x=dataset.iloc[:,[2,3]]\n",
        "y=dataset.iloc[:,4]\n",
        "#Where x is the x independent variable and y is dependent variable\n",
        "#X is the input and Y is the output\n",
        "# y=mx+c\n",
        "x_train, x_test, y_train, y_test = train_test_split(x, y, test_size=0.25,random_state=0)\n",
        "print(x_train.shape,x_test.shape)\n",
        "print(x.shape,y.shape)"
      ],
      "metadata": {
        "colab": {
          "base_uri": "https://localhost:8080/"
        },
        "id": "E1FE1S4qAeEJ",
        "outputId": "94e136fc-ef92-4831-9e0e-bb43e9fe2216"
      },
      "execution_count": 16,
      "outputs": [
        {
          "output_type": "stream",
          "name": "stdout",
          "text": [
            "(300, 2) (100, 2)\n",
            "(400, 2) (400,)\n"
          ]
        }
      ]
    },
    {
      "cell_type": "markdown",
      "source": [
        "### Standarization"
      ],
      "metadata": {
        "id": "G-DaW9Z1sI86"
      }
    },
    {
      "cell_type": "code",
      "source": [
        "#Standarization (with mean 0 and standard deviation = 1)\n",
        "sc=StandardScaler()\n",
        "sc.fit(x_train)\n",
        "x_train=sc.fit_transform(x_train)\n",
        "x_test=sc.transform(x_test)"
      ],
      "metadata": {
        "id": "OfI-pgrSA1E4"
      },
      "execution_count": 17,
      "outputs": []
    },
    {
      "cell_type": "code",
      "source": [
        "mew=sc.mean_\n",
        "sigma=sc.scale_\n",
        "print(mew,sigma)"
      ],
      "metadata": {
        "id": "ZktXhed1nHZm",
        "colab": {
          "base_uri": "https://localhost:8080/"
        },
        "outputId": "7e2ca8be-0b5f-4afe-b9a9-dea78d357d0e"
      },
      "execution_count": 18,
      "outputs": [
        {
          "output_type": "stream",
          "name": "stdout",
          "text": [
            "[3.81266667e+01 6.95833333e+04] [1.00977203e+01 3.44909127e+04]\n"
          ]
        }
      ]
    },
    {
      "cell_type": "markdown",
      "source": [
        "### Applying SVM Algorithm"
      ],
      "metadata": {
        "id": "Ef6Xk0GnsRpV"
      }
    },
    {
      "cell_type": "code",
      "source": [
        "SM=SVC(kernel=\"linear\", random_state=0)\n",
        "SM.fit(x_train,y_train)\n",
        "result=SM.predict(x_test)\n",
        "result"
      ],
      "metadata": {
        "colab": {
          "base_uri": "https://localhost:8080/"
        },
        "id": "xKHVytX2pnue",
        "outputId": "ce679113-0c1d-4e72-b086-143dd1c034ea"
      },
      "execution_count": 19,
      "outputs": [
        {
          "output_type": "execute_result",
          "data": {
            "text/plain": [
              "array([0, 0, 0, 0, 0, 0, 0, 1, 0, 0, 0, 0, 0, 0, 0, 0, 0, 0, 1, 0, 0, 1,\n",
              "       0, 1, 0, 1, 0, 0, 0, 0, 0, 0, 1, 0, 0, 0, 0, 0, 0, 1, 0, 0, 0, 0,\n",
              "       1, 0, 0, 1, 0, 1, 1, 0, 0, 0, 1, 0, 0, 0, 0, 0, 0, 1, 0, 0, 0, 1,\n",
              "       0, 0, 0, 0, 1, 0, 0, 0, 0, 0, 1, 0, 1, 1, 1, 1, 0, 0, 1, 1, 0, 1,\n",
              "       0, 0, 0, 1, 0, 0, 0, 0, 0, 0, 1, 1])"
            ]
          },
          "metadata": {},
          "execution_count": 19
        }
      ]
    },
    {
      "cell_type": "markdown",
      "source": [
        "### Results"
      ],
      "metadata": {
        "id": "8BLobusbscus"
      }
    },
    {
      "cell_type": "code",
      "source": [
        "print(\"Accuracy : \",metrics.accuracy_score(y_test,result))"
      ],
      "metadata": {
        "colab": {
          "base_uri": "https://localhost:8080/"
        },
        "id": "b-CfxAFuuzZb",
        "outputId": "63931e22-1917-4ee1-cb46-81c9f19b8232"
      },
      "execution_count": 20,
      "outputs": [
        {
          "output_type": "stream",
          "name": "stdout",
          "text": [
            "Accuracy :  0.9\n"
          ]
        }
      ]
    },
    {
      "cell_type": "markdown",
      "source": [
        "###By Using another method of SVM (RBF)"
      ],
      "metadata": {
        "id": "rt3YA_MCrDQg"
      }
    },
    {
      "cell_type": "code",
      "source": [
        "SM=SVC(kernel=\"rbf\", random_state=0)\n",
        "SM.fit(x_train,y_train)\n",
        "result=SM.predict(x_test)\n",
        "result\n",
        "print(\"Accuracy : \",metrics.accuracy_score(y_test,result))"
      ],
      "metadata": {
        "colab": {
          "base_uri": "https://localhost:8080/"
        },
        "id": "AJ-m69D0q6lK",
        "outputId": "2c22c5c3-4e47-4c9c-b6d4-35039173852d"
      },
      "execution_count": 21,
      "outputs": [
        {
          "output_type": "stream",
          "name": "stdout",
          "text": [
            "Accuracy :  0.93\n"
          ]
        }
      ]
    }
  ]
}